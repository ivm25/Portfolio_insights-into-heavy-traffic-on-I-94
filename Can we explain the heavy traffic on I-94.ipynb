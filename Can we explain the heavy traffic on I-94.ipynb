{
 "cells": [
  {
   "cell_type": "markdown",
   "metadata": {},
   "source": [
    "##  Can we explain the heavy traffic on I-94?"
   ]
  },
  {
   "cell_type": "markdown",
   "metadata": {},
   "source": [
    "### Table of Contents\n",
    "***\n",
    "1 [GOAL](#definition)\n",
    "\n",
    "1.1 [BUSINESS PROBLEM](#problem)\n",
    "\n",
    "2 [DISCOVER](#discover)\n",
    "\n",
    "2.1 [Load](#loadthelibrariesfile)\n",
    "\n",
    "2.2 [Function definitions and structures](#functions)\n",
    "\n",
    "2.3 [Data Exploration](#explore)\n",
    "\n",
    "2.4 [Feature Engineering](#Engineer)\n",
    "\n",
    "2.5 [Key Visualisations](#functioncalls)\n",
    "\n",
    "3 [Conclusion](#summary)\n"
   ]
  },
  {
   "cell_type": "markdown",
   "metadata": {},
   "source": [
    "### 1: GOAL\n",
    "<a id=\"definition\"></a>"
   ]
  },
  {
   "cell_type": "markdown",
   "metadata": {},
   "source": [
    " Identify key indicators of heavy traffic on I-94 highway\n",
    "***\n",
    "\n",
    "*Source of the data* : https://archive.ics.uci.edu/ml/datasets/Metro+Interstate+Traffic+Volume\n",
    "\n",
    "*Assumptions about data and data quality*: \n",
    "\n",
    "- We will not focus on cleaning of data, assuming that it's been fairly cleaned and uploaded on he UCI Machine Learning Repository.\n",
    "\n",
    "- A station located approximately midway between Minneapolis and Saint Paul recorded the traffic data. \n",
    "\n",
    "- Also, the station only records westbound traffic (cars moving from east to west).\n",
    "\n",
    "- The results therefore will be analysed about the westbound traffic in proximity of the station.\n"
   ]
  },
  {
   "cell_type": "markdown",
   "metadata": {},
   "source": [
    "### 1.1: BUSINESS PROBLEM\n",
    "<a id=\"problem\"></a>"
   ]
  },
  {
   "cell_type": "markdown",
   "metadata": {},
   "source": [
    "1. Identify the key drivers of high traffic volume on I-94\n",
    "\n",
    "2. Can we take an informed decision about the traffic indicators, communicate to the concerned authorities and come up with away to manage the traffic?\n",
    "\n",
    "3. Can we convey where to invest/manage infrastructure or money on traffic controls on I-94?"
   ]
  },
  {
   "cell_type": "markdown",
   "metadata": {},
   "source": [
    "### 2: DISCOVER\n",
    "<a id=\"discover\"></a>"
   ]
  },
  {
   "cell_type": "markdown",
   "metadata": {},
   "source": [
    "This section consists of:\n",
    "\n",
    "1. *Loading of files/libraries and exploratory data analysis*\n",
    "\n",
    "2. *Function definitions*\n",
    "\n",
    "3. *Feature Engineering*\n",
    "\n",
    "4. *Visualisations using the function calls*\n",
    "\n"
   ]
  },
  {
   "cell_type": "markdown",
   "metadata": {},
   "source": [
    "### 2.1: Load\n",
    "<a id=\"loadthelibrariesfile\"></a>"
   ]
  },
  {
   "cell_type": "markdown",
   "metadata": {},
   "source": [
    "**Consists of loading the files and importing the necessary librarires for analysis**"
   ]
  },
  {
   "cell_type": "code",
   "execution_count": 1,
   "metadata": {},
   "outputs": [],
   "source": [
    "import pandas as pd\n",
    "import matplotlib.pyplot as plt\n",
    "import seaborn as sns\n",
    "import numpy as np\n",
    "%matplotlib inline"
   ]
  },
  {
   "cell_type": "markdown",
   "metadata": {},
   "source": [
    "### 2.2: Function definition and structures\n",
    "<a id=\"functions\"></a>"
   ]
  },
  {
   "cell_type": "code",
   "execution_count": 2,
   "metadata": {},
   "outputs": [],
   "source": [
    "def grid_chart(df_1,\n",
    "               df_2,\n",
    "               s_1=None,\n",
    "               s_2=None,\n",
    "               title_1=None,\n",
    "               title_2=None,\n",
    "               xlabel=None,\n",
    "               ylabel=None,\n",
    "               chart_type=None,\n",
    "               xlimit_top=None,\n",
    "               xlimit_bottom=None,\n",
    "               ylimit_top=None,\n",
    "               ylimit_bottom=None\n",
    "               ):\n",
    "    \"\"\"Plot a grid chart of an input dataFrame.\n",
    "\n",
    "    df_1 (DataFrame): input dataframe 1\n",
    "    df_2 (DataFrame): input dataframe 2\n",
    "    s_1 (Series): chosen column as x-axis for the gridcharts\n",
    "    s_2 (Series): chosen column as y-axis for the gridcharts\n",
    "    title_1 (string): title of 1st grid chart\n",
    "    title_2 (string): title of 2nd grid chart\n",
    "    xlabel (string): label of x axes of grid charts\n",
    "    ylabel (string): label of y axes of grid charts\n",
    "    chart_type (type of chart): plots a histogram if value set\n",
    "    to 'hist' else plots a lineplot\n",
    "    xlim_bottom (int): start value of x axis\n",
    "    xlim_top (int): right limit of x axis\n",
    "    ylim_bottom (int): top limit of y axis\n",
    "    ylim_top (int): start of y axis\n",
    "    Returns_:\n",
    "    gridchart(histogram/lineplot) (figure) with two axes: matplotlib figure\n",
    "    \"\"\"\n",
    "    fig, ax = plt.subplots(nrows=1, ncols=2)\n",
    "    plt.subplots_adjust(wspace=0.4)\n",
    "    if chart_type == \"hist\":\n",
    "        ax[0].hist(df_1[s_2])\n",
    "        ax[1].hist(df_2[s_2])\n",
    "    else:\n",
    "        ax[0].plot(df_1[s_1], df_1[s_2])\n",
    "        ax[1].plot(df_2[s_1], df_2[s_2])\n",
    "    ax[0].set_title(title_1)\n",
    "    ax[0].set_xlabel(xlabel)\n",
    "    ax[0].set_xlim(xlimit_bottom,  xlimit_top)\n",
    "    ax[0].set_ylabel(ylabel)\n",
    "    ax[0].set_ylim(ylimit_bottom, ylimit_top)\n",
    "    ax[1].set_title(title_2)\n",
    "    ax[1].set_xlabel(xlabel)\n",
    "    ax[1].set_xlim(xlimit_bottom, xlimit_top)\n",
    "    ax[1].set_ylabel(ylabel)\n",
    "    ax[1].set_ylim(ylimit_bottom, ylimit_top)\n",
    "    return fig, ax\n",
    "\n",
    " \n",
    "def groupings(df, new_col=None):\n",
    "    \"\"\"Group the input dataframe by a chosen column using a mean aggregation.\n",
    "\n",
    "    df (DataFrame): input dataframe\n",
    "    new_col (Series): chosen column for aggregation\n",
    "    Returns_:\n",
    "    grouped_df: DataFrame\n",
    "    \"\"\"\n",
    "    grouped_df = df.groupby(new_col).mean()\n",
    "    grouped_df = grouped_df.reset_index()\n",
    "    return grouped_df\n",
    "\n",
    "\n",
    "# Generate line plots\n",
    "# Generate line plots\n",
    "def create_lineplot(df, s_1=None,\n",
    "                    s_2=None,\n",
    "                    chart_title=None,\n",
    "                    x=None,\n",
    "                    y=None,\n",
    "                    ):\n",
    "    \"\"\"Plot a lineplot of an input dataFrame.\n",
    "\n",
    "    df (DataFrame): input dataframe\n",
    "    s_1 (Series): chosen column as x-axis for lineplot\n",
    "    s_2 (Series): chosen column as y-axis for lineplot\n",
    "    chart_title (String): title of the lineplot\n",
    "    x (string): label of the x-axis\n",
    "    y (string): label of the y-axis\n",
    "    Returns_:\n",
    "    lineplot (figure) and axis: matplotlib figure\n",
    "    \"\"\"\n",
    "    fig, ax = plt.subplots()\n",
    "    plt.plot(df[s_1], df[s_2])\n",
    "    plt.title(chart_title)\n",
    "    plt.xlabel(x)\n",
    "    plt.ylabel(y)\n",
    "    plt.show()\n",
    "    return fig, ax\n",
    "\n",
    "\n",
    "def create_scatterplot(df, s_1=None,\n",
    "                       s_2=None,\n",
    "                       xlim_bottom=None,\n",
    "                       xlim_top=None,\n",
    "                       ylim_bottom=None,\n",
    "                       ylim_top=None\n",
    "                       ):\n",
    "    \"\"\"Plot a scatterplot of an input dataFrame.\n",
    "\n",
    "    df (DataFrame): input dataframe\n",
    "    s_1 (Series): chosen column as x-axis for lineplot\n",
    "    s_2 (Series): chosen column as y-axis for lineplot\n",
    "    xlim_bottom (int): start value of x axis\n",
    "    xlim_top (int): right limit of x axis\n",
    "    ylim_bottom (int): top limit of y axis\n",
    "    ylim_top (int): start of y axis\n",
    "    Returns_:\n",
    "    scatterplot (figure) and axis: matplotlib figure\n",
    "    \"\"\"\n",
    "    fig, ax = plt.subplots()\n",
    "    plt.scatter(df[s_1], df[s_2])\n",
    "    ax.set_xlim(xlim_bottom, xlim_top)\n",
    "    ax.set_ylim(ylim_bottom, ylim_top)\n",
    "    plt.show()\n",
    "    return fig, ax\n",
    "\n",
    "\n",
    "def create_barchart(df, s_1=None,\n",
    "                    s_2=None,\n",
    "                    chart_title=None,\n",
    "                    x=None,\n",
    "                    y=None,\n",
    "                    horizontalplot=False):\n",
    "    \"\"\"Plot a barchart of an input dataFrame.\n",
    "\n",
    "    df (DataFrame): input dataframe\n",
    "    s_1 (Series): chosen column as x-axis for lineplot\n",
    "    s_2 (Series): chosen column as y-axis for lineplot\n",
    "    chart_title (String): Title of the bar plot\n",
    "    x (String): Label of x-axis\n",
    "    y (String): Label of y-axis\n",
    "    horizontalplot (boolean): plots a horizonatal bar plot if True\n",
    "    Returns_:\n",
    "    barchart (figure) and axis: matplotlib figure\n",
    "    \"\"\"\n",
    "    fig, ax = plt.subplots(figsize=(8, 6))\n",
    "    colormap = plt.cm.get_cmap('Dark2')\n",
    "    if horizontalplot:\n",
    "        plt.barh(df[s_1], df[s_2], color=colormap.colors)\n",
    "        plt.title(chart_title)\n",
    "        plt.xlabel(x)\n",
    "        plt.ylabel(y)\n",
    "        plt.show()\n",
    "    else:\n",
    "        plt.bar(df[s_1], df[s_2])\n",
    "        plt.title(chart_title)\n",
    "        plt.xlabel(x)\n",
    "        plt.ylabel(y)\n",
    "        plt.show()\n",
    "    return fig, ax\n"
   ]
  },
  {
   "cell_type": "markdown",
   "metadata": {},
   "source": [
    "### 2.3: Data Exploration\n",
    "<a id=\"explore\"></a>"
   ]
  },
  {
   "cell_type": "code",
   "execution_count": 3,
   "metadata": {},
   "outputs": [
    {
     "data": {
      "text/html": [
       "<div>\n",
       "<style scoped>\n",
       "    .dataframe tbody tr th:only-of-type {\n",
       "        vertical-align: middle;\n",
       "    }\n",
       "\n",
       "    .dataframe tbody tr th {\n",
       "        vertical-align: top;\n",
       "    }\n",
       "\n",
       "    .dataframe thead th {\n",
       "        text-align: right;\n",
       "    }\n",
       "</style>\n",
       "<table border=\"1\" class=\"dataframe\">\n",
       "  <thead>\n",
       "    <tr style=\"text-align: right;\">\n",
       "      <th></th>\n",
       "      <th>holiday</th>\n",
       "      <th>temp</th>\n",
       "      <th>rain_1h</th>\n",
       "      <th>snow_1h</th>\n",
       "      <th>clouds_all</th>\n",
       "      <th>weather_main</th>\n",
       "      <th>weather_description</th>\n",
       "      <th>date_time</th>\n",
       "      <th>traffic_volume</th>\n",
       "    </tr>\n",
       "  </thead>\n",
       "  <tbody>\n",
       "    <tr>\n",
       "      <th>0</th>\n",
       "      <td>None</td>\n",
       "      <td>288.28</td>\n",
       "      <td>0.0</td>\n",
       "      <td>0.0</td>\n",
       "      <td>40</td>\n",
       "      <td>Clouds</td>\n",
       "      <td>scattered clouds</td>\n",
       "      <td>2012-10-02 09:00:00</td>\n",
       "      <td>5545</td>\n",
       "    </tr>\n",
       "    <tr>\n",
       "      <th>1</th>\n",
       "      <td>None</td>\n",
       "      <td>289.36</td>\n",
       "      <td>0.0</td>\n",
       "      <td>0.0</td>\n",
       "      <td>75</td>\n",
       "      <td>Clouds</td>\n",
       "      <td>broken clouds</td>\n",
       "      <td>2012-10-02 10:00:00</td>\n",
       "      <td>4516</td>\n",
       "    </tr>\n",
       "    <tr>\n",
       "      <th>2</th>\n",
       "      <td>None</td>\n",
       "      <td>289.58</td>\n",
       "      <td>0.0</td>\n",
       "      <td>0.0</td>\n",
       "      <td>90</td>\n",
       "      <td>Clouds</td>\n",
       "      <td>overcast clouds</td>\n",
       "      <td>2012-10-02 11:00:00</td>\n",
       "      <td>4767</td>\n",
       "    </tr>\n",
       "    <tr>\n",
       "      <th>3</th>\n",
       "      <td>None</td>\n",
       "      <td>290.13</td>\n",
       "      <td>0.0</td>\n",
       "      <td>0.0</td>\n",
       "      <td>90</td>\n",
       "      <td>Clouds</td>\n",
       "      <td>overcast clouds</td>\n",
       "      <td>2012-10-02 12:00:00</td>\n",
       "      <td>5026</td>\n",
       "    </tr>\n",
       "    <tr>\n",
       "      <th>4</th>\n",
       "      <td>None</td>\n",
       "      <td>291.14</td>\n",
       "      <td>0.0</td>\n",
       "      <td>0.0</td>\n",
       "      <td>75</td>\n",
       "      <td>Clouds</td>\n",
       "      <td>broken clouds</td>\n",
       "      <td>2012-10-02 13:00:00</td>\n",
       "      <td>4918</td>\n",
       "    </tr>\n",
       "  </tbody>\n",
       "</table>\n",
       "</div>"
      ],
      "text/plain": [
       "  holiday    temp  rain_1h  snow_1h  clouds_all weather_main  \\\n",
       "0    None  288.28      0.0      0.0          40       Clouds   \n",
       "1    None  289.36      0.0      0.0          75       Clouds   \n",
       "2    None  289.58      0.0      0.0          90       Clouds   \n",
       "3    None  290.13      0.0      0.0          90       Clouds   \n",
       "4    None  291.14      0.0      0.0          75       Clouds   \n",
       "\n",
       "  weather_description            date_time  traffic_volume  \n",
       "0    scattered clouds  2012-10-02 09:00:00            5545  \n",
       "1       broken clouds  2012-10-02 10:00:00            4516  \n",
       "2     overcast clouds  2012-10-02 11:00:00            4767  \n",
       "3     overcast clouds  2012-10-02 12:00:00            5026  \n",
       "4       broken clouds  2012-10-02 13:00:00            4918  "
      ]
     },
     "execution_count": 3,
     "metadata": {},
     "output_type": "execute_result"
    }
   ],
   "source": [
    "metro_data = pd.read_csv(\"Metro_Interstate_Traffic_Volume.csv\")\n",
    "# Examining the first five rows\n",
    "metro_data.head(5)"
   ]
  },
  {
   "cell_type": "code",
   "execution_count": 4,
   "metadata": {},
   "outputs": [
    {
     "data": {
      "text/html": [
       "<div>\n",
       "<style scoped>\n",
       "    .dataframe tbody tr th:only-of-type {\n",
       "        vertical-align: middle;\n",
       "    }\n",
       "\n",
       "    .dataframe tbody tr th {\n",
       "        vertical-align: top;\n",
       "    }\n",
       "\n",
       "    .dataframe thead th {\n",
       "        text-align: right;\n",
       "    }\n",
       "</style>\n",
       "<table border=\"1\" class=\"dataframe\">\n",
       "  <thead>\n",
       "    <tr style=\"text-align: right;\">\n",
       "      <th></th>\n",
       "      <th>holiday</th>\n",
       "      <th>temp</th>\n",
       "      <th>rain_1h</th>\n",
       "      <th>snow_1h</th>\n",
       "      <th>clouds_all</th>\n",
       "      <th>weather_main</th>\n",
       "      <th>weather_description</th>\n",
       "      <th>date_time</th>\n",
       "      <th>traffic_volume</th>\n",
       "    </tr>\n",
       "  </thead>\n",
       "  <tbody>\n",
       "    <tr>\n",
       "      <th>48199</th>\n",
       "      <td>None</td>\n",
       "      <td>283.45</td>\n",
       "      <td>0.0</td>\n",
       "      <td>0.0</td>\n",
       "      <td>75</td>\n",
       "      <td>Clouds</td>\n",
       "      <td>broken clouds</td>\n",
       "      <td>2018-09-30 19:00:00</td>\n",
       "      <td>3543</td>\n",
       "    </tr>\n",
       "    <tr>\n",
       "      <th>48200</th>\n",
       "      <td>None</td>\n",
       "      <td>282.76</td>\n",
       "      <td>0.0</td>\n",
       "      <td>0.0</td>\n",
       "      <td>90</td>\n",
       "      <td>Clouds</td>\n",
       "      <td>overcast clouds</td>\n",
       "      <td>2018-09-30 20:00:00</td>\n",
       "      <td>2781</td>\n",
       "    </tr>\n",
       "    <tr>\n",
       "      <th>48201</th>\n",
       "      <td>None</td>\n",
       "      <td>282.73</td>\n",
       "      <td>0.0</td>\n",
       "      <td>0.0</td>\n",
       "      <td>90</td>\n",
       "      <td>Thunderstorm</td>\n",
       "      <td>proximity thunderstorm</td>\n",
       "      <td>2018-09-30 21:00:00</td>\n",
       "      <td>2159</td>\n",
       "    </tr>\n",
       "    <tr>\n",
       "      <th>48202</th>\n",
       "      <td>None</td>\n",
       "      <td>282.09</td>\n",
       "      <td>0.0</td>\n",
       "      <td>0.0</td>\n",
       "      <td>90</td>\n",
       "      <td>Clouds</td>\n",
       "      <td>overcast clouds</td>\n",
       "      <td>2018-09-30 22:00:00</td>\n",
       "      <td>1450</td>\n",
       "    </tr>\n",
       "    <tr>\n",
       "      <th>48203</th>\n",
       "      <td>None</td>\n",
       "      <td>282.12</td>\n",
       "      <td>0.0</td>\n",
       "      <td>0.0</td>\n",
       "      <td>90</td>\n",
       "      <td>Clouds</td>\n",
       "      <td>overcast clouds</td>\n",
       "      <td>2018-09-30 23:00:00</td>\n",
       "      <td>954</td>\n",
       "    </tr>\n",
       "  </tbody>\n",
       "</table>\n",
       "</div>"
      ],
      "text/plain": [
       "      holiday    temp  rain_1h  snow_1h  clouds_all  weather_main  \\\n",
       "48199    None  283.45      0.0      0.0          75        Clouds   \n",
       "48200    None  282.76      0.0      0.0          90        Clouds   \n",
       "48201    None  282.73      0.0      0.0          90  Thunderstorm   \n",
       "48202    None  282.09      0.0      0.0          90        Clouds   \n",
       "48203    None  282.12      0.0      0.0          90        Clouds   \n",
       "\n",
       "          weather_description            date_time  traffic_volume  \n",
       "48199           broken clouds  2018-09-30 19:00:00            3543  \n",
       "48200         overcast clouds  2018-09-30 20:00:00            2781  \n",
       "48201  proximity thunderstorm  2018-09-30 21:00:00            2159  \n",
       "48202         overcast clouds  2018-09-30 22:00:00            1450  \n",
       "48203         overcast clouds  2018-09-30 23:00:00             954  "
      ]
     },
     "execution_count": 4,
     "metadata": {},
     "output_type": "execute_result"
    }
   ],
   "source": [
    "# Examining the last five rows\n",
    "metro_data.tail(5)"
   ]
  },
  {
   "cell_type": "code",
   "execution_count": 5,
   "metadata": {},
   "outputs": [
    {
     "name": "stdout",
     "output_type": "stream",
     "text": [
      "<class 'pandas.core.frame.DataFrame'>\n",
      "RangeIndex: 48204 entries, 0 to 48203\n",
      "Data columns (total 9 columns):\n",
      " #   Column               Non-Null Count  Dtype  \n",
      "---  ------               --------------  -----  \n",
      " 0   holiday              48204 non-null  object \n",
      " 1   temp                 48204 non-null  float64\n",
      " 2   rain_1h              48204 non-null  float64\n",
      " 3   snow_1h              48204 non-null  float64\n",
      " 4   clouds_all           48204 non-null  int64  \n",
      " 5   weather_main         48204 non-null  object \n",
      " 6   weather_description  48204 non-null  object \n",
      " 7   date_time            48204 non-null  object \n",
      " 8   traffic_volume       48204 non-null  int64  \n",
      "dtypes: float64(3), int64(2), object(4)\n",
      "memory usage: 3.3+ MB\n"
     ]
    }
   ],
   "source": [
    "metro_data.info()"
   ]
  },
  {
   "cell_type": "code",
   "execution_count": 6,
   "metadata": {},
   "outputs": [
    {
     "data": {
      "text/plain": [
       "<AxesSubplot:>"
      ]
     },
     "execution_count": 6,
     "metadata": {},
     "output_type": "execute_result"
    },
    {
     "data": {
      "image/png": "[encoded data removed]",
      "text/plain": [
       "<Figure size 432x288 with 1 Axes>"
      ]
     },
     "metadata": {
      "needs_background": "light"
     },
     "output_type": "display_data"
    }
   ],
   "source": [
    "metro_data['traffic_volume'].hist()"
   ]
  },
  {
   "cell_type": "code",
   "execution_count": 7,
   "metadata": {},
   "outputs": [
    {
     "data": {
      "text/plain": [
       "count    48204.000000\n",
       "mean      3259.818355\n",
       "std       1986.860670\n",
       "min          0.000000\n",
       "25%       1193.000000\n",
       "50%       3380.000000\n",
       "75%       4933.000000\n",
       "max       7280.000000\n",
       "Name: traffic_volume, dtype: float64"
      ]
     },
     "execution_count": 7,
     "metadata": {},
     "output_type": "execute_result"
    }
   ],
   "source": [
    "metro_data['traffic_volume'].describe()"
   ]
  },
  {
   "cell_type": "markdown",
   "metadata": {},
   "source": [
    "1. *About 25% of the time, there were 1,193 cars or fewer passing the station each hour — this probably occurs during the night, or when a road is under construction.*\n",
    "\n",
    "\n",
    "2. *About 25% of the time, the traffic volume was four times as much (4,933 cars or more).*"
   ]
  },
  {
   "cell_type": "code",
   "execution_count": 8,
   "metadata": {},
   "outputs": [
    {
     "name": "stdout",
     "output_type": "stream",
     "text": [
      "<class 'pandas.core.frame.DataFrame'>\n",
      "RangeIndex: 48204 entries, 0 to 48203\n",
      "Data columns (total 10 columns):\n",
      " #   Column               Non-Null Count  Dtype         \n",
      "---  ------               --------------  -----         \n",
      " 0   holiday              48204 non-null  object        \n",
      " 1   temp                 48204 non-null  float64       \n",
      " 2   rain_1h              48204 non-null  float64       \n",
      " 3   snow_1h              48204 non-null  float64       \n",
      " 4   clouds_all           48204 non-null  int64         \n",
      " 5   weather_main         48204 non-null  object        \n",
      " 6   weather_description  48204 non-null  object        \n",
      " 7   date_time            48204 non-null  datetime64[ns]\n",
      " 8   traffic_volume       48204 non-null  int64         \n",
      " 9   hour                 48204 non-null  int64         \n",
      "dtypes: datetime64[ns](1), float64(3), int64(3), object(3)\n",
      "memory usage: 3.7+ MB\n"
     ]
    }
   ],
   "source": [
    "#Tranforming the date_time column into datetime\n",
    "metro_data[\"date_time\"] = pd.to_datetime(metro_data[\"date_time\"])\n",
    "metro_data[\"hour\"] = metro_data[\"date_time\"].dt.hour\n",
    "metro_data.info()"
   ]
  },
  {
   "cell_type": "code",
   "execution_count": 9,
   "metadata": {},
   "outputs": [],
   "source": [
    "# Create day and night masks\n",
    "\n",
    "day_mask = ((metro_data[\"hour\"] >=7) & (metro_data[\"hour\"] <= 19))\n",
    "\n",
    "night_mask = ((metro_data[\"hour\"] >= 19) | (metro_data[\"hour\"] <= 7))\n",
    "\n",
    "day_traffic = metro_data[day_mask]\n",
    "\n",
    "night_traffic = metro_data[night_mask]"
   ]
  },
  {
   "cell_type": "code",
   "execution_count": 10,
   "metadata": {},
   "outputs": [
    {
     "data": {
      "text/html": [
       "<div>\n",
       "<style scoped>\n",
       "    .dataframe tbody tr th:only-of-type {\n",
       "        vertical-align: middle;\n",
       "    }\n",
       "\n",
       "    .dataframe tbody tr th {\n",
       "        vertical-align: top;\n",
       "    }\n",
       "\n",
       "    .dataframe thead th {\n",
       "        text-align: right;\n",
       "    }\n",
       "</style>\n",
       "<table border=\"1\" class=\"dataframe\">\n",
       "  <thead>\n",
       "    <tr style=\"text-align: right;\">\n",
       "      <th></th>\n",
       "      <th>holiday</th>\n",
       "      <th>temp</th>\n",
       "      <th>rain_1h</th>\n",
       "      <th>snow_1h</th>\n",
       "      <th>clouds_all</th>\n",
       "      <th>weather_main</th>\n",
       "      <th>weather_description</th>\n",
       "      <th>date_time</th>\n",
       "      <th>traffic_volume</th>\n",
       "      <th>hour</th>\n",
       "    </tr>\n",
       "  </thead>\n",
       "  <tbody>\n",
       "    <tr>\n",
       "      <th>0</th>\n",
       "      <td>None</td>\n",
       "      <td>288.28</td>\n",
       "      <td>0.00</td>\n",
       "      <td>0.0</td>\n",
       "      <td>40</td>\n",
       "      <td>Clouds</td>\n",
       "      <td>scattered clouds</td>\n",
       "      <td>2012-10-02 09:00:00</td>\n",
       "      <td>5545</td>\n",
       "      <td>9</td>\n",
       "    </tr>\n",
       "    <tr>\n",
       "      <th>1</th>\n",
       "      <td>None</td>\n",
       "      <td>289.36</td>\n",
       "      <td>0.00</td>\n",
       "      <td>0.0</td>\n",
       "      <td>75</td>\n",
       "      <td>Clouds</td>\n",
       "      <td>broken clouds</td>\n",
       "      <td>2012-10-02 10:00:00</td>\n",
       "      <td>4516</td>\n",
       "      <td>10</td>\n",
       "    </tr>\n",
       "    <tr>\n",
       "      <th>2</th>\n",
       "      <td>None</td>\n",
       "      <td>289.58</td>\n",
       "      <td>0.00</td>\n",
       "      <td>0.0</td>\n",
       "      <td>90</td>\n",
       "      <td>Clouds</td>\n",
       "      <td>overcast clouds</td>\n",
       "      <td>2012-10-02 11:00:00</td>\n",
       "      <td>4767</td>\n",
       "      <td>11</td>\n",
       "    </tr>\n",
       "    <tr>\n",
       "      <th>3</th>\n",
       "      <td>None</td>\n",
       "      <td>290.13</td>\n",
       "      <td>0.00</td>\n",
       "      <td>0.0</td>\n",
       "      <td>90</td>\n",
       "      <td>Clouds</td>\n",
       "      <td>overcast clouds</td>\n",
       "      <td>2012-10-02 12:00:00</td>\n",
       "      <td>5026</td>\n",
       "      <td>12</td>\n",
       "    </tr>\n",
       "    <tr>\n",
       "      <th>4</th>\n",
       "      <td>None</td>\n",
       "      <td>291.14</td>\n",
       "      <td>0.00</td>\n",
       "      <td>0.0</td>\n",
       "      <td>75</td>\n",
       "      <td>Clouds</td>\n",
       "      <td>broken clouds</td>\n",
       "      <td>2012-10-02 13:00:00</td>\n",
       "      <td>4918</td>\n",
       "      <td>13</td>\n",
       "    </tr>\n",
       "    <tr>\n",
       "      <th>...</th>\n",
       "      <td>...</td>\n",
       "      <td>...</td>\n",
       "      <td>...</td>\n",
       "      <td>...</td>\n",
       "      <td>...</td>\n",
       "      <td>...</td>\n",
       "      <td>...</td>\n",
       "      <td>...</td>\n",
       "      <td>...</td>\n",
       "      <td>...</td>\n",
       "    </tr>\n",
       "    <tr>\n",
       "      <th>48195</th>\n",
       "      <td>None</td>\n",
       "      <td>283.84</td>\n",
       "      <td>0.00</td>\n",
       "      <td>0.0</td>\n",
       "      <td>75</td>\n",
       "      <td>Drizzle</td>\n",
       "      <td>light intensity drizzle</td>\n",
       "      <td>2018-09-30 15:00:00</td>\n",
       "      <td>4302</td>\n",
       "      <td>15</td>\n",
       "    </tr>\n",
       "    <tr>\n",
       "      <th>48196</th>\n",
       "      <td>None</td>\n",
       "      <td>284.38</td>\n",
       "      <td>0.00</td>\n",
       "      <td>0.0</td>\n",
       "      <td>75</td>\n",
       "      <td>Rain</td>\n",
       "      <td>light rain</td>\n",
       "      <td>2018-09-30 16:00:00</td>\n",
       "      <td>4283</td>\n",
       "      <td>16</td>\n",
       "    </tr>\n",
       "    <tr>\n",
       "      <th>48197</th>\n",
       "      <td>None</td>\n",
       "      <td>284.79</td>\n",
       "      <td>0.00</td>\n",
       "      <td>0.0</td>\n",
       "      <td>75</td>\n",
       "      <td>Clouds</td>\n",
       "      <td>broken clouds</td>\n",
       "      <td>2018-09-30 17:00:00</td>\n",
       "      <td>4132</td>\n",
       "      <td>17</td>\n",
       "    </tr>\n",
       "    <tr>\n",
       "      <th>48198</th>\n",
       "      <td>None</td>\n",
       "      <td>284.20</td>\n",
       "      <td>0.25</td>\n",
       "      <td>0.0</td>\n",
       "      <td>75</td>\n",
       "      <td>Rain</td>\n",
       "      <td>light rain</td>\n",
       "      <td>2018-09-30 18:00:00</td>\n",
       "      <td>3947</td>\n",
       "      <td>18</td>\n",
       "    </tr>\n",
       "    <tr>\n",
       "      <th>48199</th>\n",
       "      <td>None</td>\n",
       "      <td>283.45</td>\n",
       "      <td>0.00</td>\n",
       "      <td>0.0</td>\n",
       "      <td>75</td>\n",
       "      <td>Clouds</td>\n",
       "      <td>broken clouds</td>\n",
       "      <td>2018-09-30 19:00:00</td>\n",
       "      <td>3543</td>\n",
       "      <td>19</td>\n",
       "    </tr>\n",
       "  </tbody>\n",
       "</table>\n",
       "<p>25838 rows × 10 columns</p>\n",
       "</div>"
      ],
      "text/plain": [
       "      holiday    temp  rain_1h  snow_1h  clouds_all weather_main  \\\n",
       "0        None  288.28     0.00      0.0          40       Clouds   \n",
       "1        None  289.36     0.00      0.0          75       Clouds   \n",
       "2        None  289.58     0.00      0.0          90       Clouds   \n",
       "3        None  290.13     0.00      0.0          90       Clouds   \n",
       "4        None  291.14     0.00      0.0          75       Clouds   \n",
       "...       ...     ...      ...      ...         ...          ...   \n",
       "48195    None  283.84     0.00      0.0          75      Drizzle   \n",
       "48196    None  284.38     0.00      0.0          75         Rain   \n",
       "48197    None  284.79     0.00      0.0          75       Clouds   \n",
       "48198    None  284.20     0.25      0.0          75         Rain   \n",
       "48199    None  283.45     0.00      0.0          75       Clouds   \n",
       "\n",
       "           weather_description           date_time  traffic_volume  hour  \n",
       "0             scattered clouds 2012-10-02 09:00:00            5545     9  \n",
       "1                broken clouds 2012-10-02 10:00:00            4516    10  \n",
       "2              overcast clouds 2012-10-02 11:00:00            4767    11  \n",
       "3              overcast clouds 2012-10-02 12:00:00            5026    12  \n",
       "4                broken clouds 2012-10-02 13:00:00            4918    13  \n",
       "...                        ...                 ...             ...   ...  \n",
       "48195  light intensity drizzle 2018-09-30 15:00:00            4302    15  \n",
       "48196               light rain 2018-09-30 16:00:00            4283    16  \n",
       "48197            broken clouds 2018-09-30 17:00:00            4132    17  \n",
       "48198               light rain 2018-09-30 18:00:00            3947    18  \n",
       "48199            broken clouds 2018-09-30 19:00:00            3543    19  \n",
       "\n",
       "[25838 rows x 10 columns]"
      ]
     },
     "execution_count": 10,
     "metadata": {},
     "output_type": "execute_result"
    }
   ],
   "source": [
    "day_traffic"
   ]
  },
  {
   "cell_type": "code",
   "execution_count": 11,
   "metadata": {},
   "outputs": [
    {
     "data": {
      "text/html": [
       "<div>\n",
       "<style scoped>\n",
       "    .dataframe tbody tr th:only-of-type {\n",
       "        vertical-align: middle;\n",
       "    }\n",
       "\n",
       "    .dataframe tbody tr th {\n",
       "        vertical-align: top;\n",
       "    }\n",
       "\n",
       "    .dataframe thead th {\n",
       "        text-align: right;\n",
       "    }\n",
       "</style>\n",
       "<table border=\"1\" class=\"dataframe\">\n",
       "  <thead>\n",
       "    <tr style=\"text-align: right;\">\n",
       "      <th></th>\n",
       "      <th>holiday</th>\n",
       "      <th>temp</th>\n",
       "      <th>rain_1h</th>\n",
       "      <th>snow_1h</th>\n",
       "      <th>clouds_all</th>\n",
       "      <th>weather_main</th>\n",
       "      <th>weather_description</th>\n",
       "      <th>date_time</th>\n",
       "      <th>traffic_volume</th>\n",
       "      <th>hour</th>\n",
       "    </tr>\n",
       "  </thead>\n",
       "  <tbody>\n",
       "    <tr>\n",
       "      <th>10</th>\n",
       "      <td>None</td>\n",
       "      <td>290.97</td>\n",
       "      <td>0.0</td>\n",
       "      <td>0.0</td>\n",
       "      <td>20</td>\n",
       "      <td>Clouds</td>\n",
       "      <td>few clouds</td>\n",
       "      <td>2012-10-02 19:00:00</td>\n",
       "      <td>3539</td>\n",
       "      <td>19</td>\n",
       "    </tr>\n",
       "    <tr>\n",
       "      <th>11</th>\n",
       "      <td>None</td>\n",
       "      <td>289.38</td>\n",
       "      <td>0.0</td>\n",
       "      <td>0.0</td>\n",
       "      <td>1</td>\n",
       "      <td>Clear</td>\n",
       "      <td>sky is clear</td>\n",
       "      <td>2012-10-02 20:00:00</td>\n",
       "      <td>2784</td>\n",
       "      <td>20</td>\n",
       "    </tr>\n",
       "    <tr>\n",
       "      <th>12</th>\n",
       "      <td>None</td>\n",
       "      <td>288.61</td>\n",
       "      <td>0.0</td>\n",
       "      <td>0.0</td>\n",
       "      <td>1</td>\n",
       "      <td>Clear</td>\n",
       "      <td>sky is clear</td>\n",
       "      <td>2012-10-02 21:00:00</td>\n",
       "      <td>2361</td>\n",
       "      <td>21</td>\n",
       "    </tr>\n",
       "    <tr>\n",
       "      <th>13</th>\n",
       "      <td>None</td>\n",
       "      <td>287.16</td>\n",
       "      <td>0.0</td>\n",
       "      <td>0.0</td>\n",
       "      <td>1</td>\n",
       "      <td>Clear</td>\n",
       "      <td>sky is clear</td>\n",
       "      <td>2012-10-02 22:00:00</td>\n",
       "      <td>1529</td>\n",
       "      <td>22</td>\n",
       "    </tr>\n",
       "    <tr>\n",
       "      <th>14</th>\n",
       "      <td>None</td>\n",
       "      <td>285.45</td>\n",
       "      <td>0.0</td>\n",
       "      <td>0.0</td>\n",
       "      <td>1</td>\n",
       "      <td>Clear</td>\n",
       "      <td>sky is clear</td>\n",
       "      <td>2012-10-02 23:00:00</td>\n",
       "      <td>963</td>\n",
       "      <td>23</td>\n",
       "    </tr>\n",
       "    <tr>\n",
       "      <th>...</th>\n",
       "      <td>...</td>\n",
       "      <td>...</td>\n",
       "      <td>...</td>\n",
       "      <td>...</td>\n",
       "      <td>...</td>\n",
       "      <td>...</td>\n",
       "      <td>...</td>\n",
       "      <td>...</td>\n",
       "      <td>...</td>\n",
       "      <td>...</td>\n",
       "    </tr>\n",
       "    <tr>\n",
       "      <th>48199</th>\n",
       "      <td>None</td>\n",
       "      <td>283.45</td>\n",
       "      <td>0.0</td>\n",
       "      <td>0.0</td>\n",
       "      <td>75</td>\n",
       "      <td>Clouds</td>\n",
       "      <td>broken clouds</td>\n",
       "      <td>2018-09-30 19:00:00</td>\n",
       "      <td>3543</td>\n",
       "      <td>19</td>\n",
       "    </tr>\n",
       "    <tr>\n",
       "      <th>48200</th>\n",
       "      <td>None</td>\n",
       "      <td>282.76</td>\n",
       "      <td>0.0</td>\n",
       "      <td>0.0</td>\n",
       "      <td>90</td>\n",
       "      <td>Clouds</td>\n",
       "      <td>overcast clouds</td>\n",
       "      <td>2018-09-30 20:00:00</td>\n",
       "      <td>2781</td>\n",
       "      <td>20</td>\n",
       "    </tr>\n",
       "    <tr>\n",
       "      <th>48201</th>\n",
       "      <td>None</td>\n",
       "      <td>282.73</td>\n",
       "      <td>0.0</td>\n",
       "      <td>0.0</td>\n",
       "      <td>90</td>\n",
       "      <td>Thunderstorm</td>\n",
       "      <td>proximity thunderstorm</td>\n",
       "      <td>2018-09-30 21:00:00</td>\n",
       "      <td>2159</td>\n",
       "      <td>21</td>\n",
       "    </tr>\n",
       "    <tr>\n",
       "      <th>48202</th>\n",
       "      <td>None</td>\n",
       "      <td>282.09</td>\n",
       "      <td>0.0</td>\n",
       "      <td>0.0</td>\n",
       "      <td>90</td>\n",
       "      <td>Clouds</td>\n",
       "      <td>overcast clouds</td>\n",
       "      <td>2018-09-30 22:00:00</td>\n",
       "      <td>1450</td>\n",
       "      <td>22</td>\n",
       "    </tr>\n",
       "    <tr>\n",
       "      <th>48203</th>\n",
       "      <td>None</td>\n",
       "      <td>282.12</td>\n",
       "      <td>0.0</td>\n",
       "      <td>0.0</td>\n",
       "      <td>90</td>\n",
       "      <td>Clouds</td>\n",
       "      <td>overcast clouds</td>\n",
       "      <td>2018-09-30 23:00:00</td>\n",
       "      <td>954</td>\n",
       "      <td>23</td>\n",
       "    </tr>\n",
       "  </tbody>\n",
       "</table>\n",
       "<p>26406 rows × 10 columns</p>\n",
       "</div>"
      ],
      "text/plain": [
       "      holiday    temp  rain_1h  snow_1h  clouds_all  weather_main  \\\n",
       "10       None  290.97      0.0      0.0          20        Clouds   \n",
       "11       None  289.38      0.0      0.0           1         Clear   \n",
       "12       None  288.61      0.0      0.0           1         Clear   \n",
       "13       None  287.16      0.0      0.0           1         Clear   \n",
       "14       None  285.45      0.0      0.0           1         Clear   \n",
       "...       ...     ...      ...      ...         ...           ...   \n",
       "48199    None  283.45      0.0      0.0          75        Clouds   \n",
       "48200    None  282.76      0.0      0.0          90        Clouds   \n",
       "48201    None  282.73      0.0      0.0          90  Thunderstorm   \n",
       "48202    None  282.09      0.0      0.0          90        Clouds   \n",
       "48203    None  282.12      0.0      0.0          90        Clouds   \n",
       "\n",
       "          weather_description           date_time  traffic_volume  hour  \n",
       "10                 few clouds 2012-10-02 19:00:00            3539    19  \n",
       "11               sky is clear 2012-10-02 20:00:00            2784    20  \n",
       "12               sky is clear 2012-10-02 21:00:00            2361    21  \n",
       "13               sky is clear 2012-10-02 22:00:00            1529    22  \n",
       "14               sky is clear 2012-10-02 23:00:00             963    23  \n",
       "...                       ...                 ...             ...   ...  \n",
       "48199           broken clouds 2018-09-30 19:00:00            3543    19  \n",
       "48200         overcast clouds 2018-09-30 20:00:00            2781    20  \n",
       "48201  proximity thunderstorm 2018-09-30 21:00:00            2159    21  \n",
       "48202         overcast clouds 2018-09-30 22:00:00            1450    22  \n",
       "48203         overcast clouds 2018-09-30 23:00:00             954    23  \n",
       "\n",
       "[26406 rows x 10 columns]"
      ]
     },
     "execution_count": 11,
     "metadata": {},
     "output_type": "execute_result"
    }
   ],
   "source": [
    "night_traffic"
   ]
  },
  {
   "cell_type": "code",
   "execution_count": 12,
   "metadata": {
    "scrolled": true
   },
   "outputs": [
    {
     "data": {
      "text/plain": [
       "(<Figure size 432x288 with 2 Axes>,\n",
       " array([<AxesSubplot:title={'center':'day_traffic'}, xlabel='traffic_volume', ylabel='counts'>,\n",
       "        <AxesSubplot:title={'center':'night_traffic'}, xlabel='traffic_volume', ylabel='counts'>],\n",
       "       dtype=object))"
      ]
     },
     "execution_count": 12,
     "metadata": {},
     "output_type": "execute_result"
    },
    {
     "data": {
      "image/png": "[encoded data removed]",
      "text/plain": [
       "<Figure size 432x288 with 2 Axes>"
      ]
     },
     "metadata": {
      "needs_background": "light"
     },
     "output_type": "display_data"
    }
   ],
   "source": [
    "# grid chart function call\n",
    "grid_chart(day_traffic, night_traffic, s_2=\"traffic_volume\",\n",
    "           title_1=\"day_traffic\", title_2=\"night_traffic\",\n",
    "           xlabel=\"traffic_volume\",\n",
    "           ylabel=\"counts\",\n",
    "           chart_type=\"hist\",\n",
    "           xlimit_top=7500,\n",
    "           xlimit_bottom=0,\n",
    "           ylimit_top=8500,\n",
    "           ylimit_bottom=0)"
   ]
  },
  {
   "cell_type": "code",
   "execution_count": 13,
   "metadata": {},
   "outputs": [
    {
     "data": {
      "text/plain": [
       "count    26406.000000\n",
       "mean      2018.015375\n",
       "std       1713.201969\n",
       "min          0.000000\n",
       "25%        581.000000\n",
       "50%       1485.000000\n",
       "75%       2934.000000\n",
       "max       7260.000000\n",
       "Name: traffic_volume, dtype: float64"
      ]
     },
     "execution_count": 13,
     "metadata": {},
     "output_type": "execute_result"
    }
   ],
   "source": [
    "#analyse the day and night traffic for both the data sets\n",
    "night_traffic[\"traffic_volume\"].describe()"
   ]
  },
  {
   "cell_type": "code",
   "execution_count": 14,
   "metadata": {},
   "outputs": [
    {
     "data": {
      "text/plain": [
       "count    25838.000000\n",
       "mean      4649.292360\n",
       "std       1202.321987\n",
       "min          0.000000\n",
       "25%       4021.000000\n",
       "50%       4736.000000\n",
       "75%       5458.000000\n",
       "max       7280.000000\n",
       "Name: traffic_volume, dtype: float64"
      ]
     },
     "execution_count": 14,
     "metadata": {},
     "output_type": "execute_result"
    }
   ],
   "source": [
    "day_traffic[\"traffic_volume\"].describe()"
   ]
  },
  {
   "cell_type": "markdown",
   "metadata": {},
   "source": [
    "1. *The histograms indicate clearly that the traffic is higher during the day time*\n",
    "\n",
    "2. *It makes sense to analyse the day traffic instead to understand the indicators of heavy traffic*\n",
    "\n",
    "3. *Analysis from here on will be focused on day traffic data only*"
   ]
  },
  {
   "cell_type": "markdown",
   "metadata": {},
   "source": [
    "### 2.4: Feature Engineering\n",
    "<a id=\"Engineer\"></a>"
   ]
  },
  {
   "cell_type": "code",
   "execution_count": 15,
   "metadata": {},
   "outputs": [
    {
     "name": "stderr",
     "output_type": "stream",
     "text": [
      "<ipython-input-15-f3126a8afe7b>:2: SettingWithCopyWarning: \n",
      "A value is trying to be set on a copy of a slice from a DataFrame.\n",
      "Try using .loc[row_indexer,col_indexer] = value instead\n",
      "\n",
      "See the caveats in the documentation: https://pandas.pydata.org/pandas-docs/stable/user_guide/indexing.html#returning-a-view-versus-a-copy\n",
      "  day_traffic['month'] = day_traffic['date_time'].dt.month\n",
      "<ipython-input-15-f3126a8afe7b>:3: SettingWithCopyWarning: \n",
      "A value is trying to be set on a copy of a slice from a DataFrame.\n",
      "Try using .loc[row_indexer,col_indexer] = value instead\n",
      "\n",
      "See the caveats in the documentation: https://pandas.pydata.org/pandas-docs/stable/user_guide/indexing.html#returning-a-view-versus-a-copy\n",
      "  day_traffic['dayofweek'] = day_traffic['date_time'].dt.dayofweek\n",
      "<ipython-input-15-f3126a8afe7b>:4: SettingWithCopyWarning: \n",
      "A value is trying to be set on a copy of a slice from a DataFrame.\n",
      "Try using .loc[row_indexer,col_indexer] = value instead\n",
      "\n",
      "See the caveats in the documentation: https://pandas.pydata.org/pandas-docs/stable/user_guide/indexing.html#returning-a-view-versus-a-copy\n",
      "  day_traffic['hour'] = day_traffic['date_time'].dt.hour\n"
     ]
    }
   ],
   "source": [
    "# Feature Engineering\n",
    "day_traffic['month'] = day_traffic['date_time'].dt.month\n",
    "day_traffic['dayofweek'] = day_traffic['date_time'].dt.dayofweek\n",
    "day_traffic['hour'] = day_traffic['date_time'].dt.hour\n",
    "# 4 == Friday\n",
    "bussiness_days = day_traffic.copy()[day_traffic['dayofweek'] <= 4]\n",
    "# 5 == Saturday\n",
    "weekend = day_traffic.copy()[day_traffic['dayofweek'] >= 5]\n",
    "by_hour_business = groupings(bussiness_days, new_col='hour')\n",
    "by_hour_weekend = groupings(weekend, new_col='hour')"
   ]
  },
  {
   "cell_type": "markdown",
   "metadata": {},
   "source": [
    "### 2.5: Key Visualisations\n",
    "<a id=\"functioncalls\"></a>"
   ]
  },
  {
   "cell_type": "code",
   "execution_count": 16,
   "metadata": {},
   "outputs": [
    {
     "data": {
      "image/png": "[encoded data removed]",
      "text/plain": [
       "<Figure size 432x288 with 1 Axes>"
      ]
     },
     "metadata": {
      "needs_background": "light"
     },
     "output_type": "display_data"
    },
    {
     "data": {
      "text/plain": [
       "(<Figure size 432x288 with 1 Axes>,\n",
       " <AxesSubplot:title={'center':'day_traffic'}, xlabel='month', ylabel='traffic'>)"
      ]
     },
     "execution_count": 16,
     "metadata": {},
     "output_type": "execute_result"
    }
   ],
   "source": [
    "# group the day_traffic data by month column and have a mean aggregate\n",
    "group_by_month = groupings(day_traffic, new_col='month')\n",
    "\n",
    "# create a line plot of the monthly grouped data\n",
    "create_lineplot(group_by_month, s_1=\"month\", s_2=\"traffic_volume\",\n",
    "                chart_title=\"day_traffic\",\n",
    "                x=\"month\",\n",
    "                y=\"traffic\"\n",
    "                )"
   ]
  },
  {
   "cell_type": "markdown",
   "metadata": {},
   "source": [
    "**Summary Lineplot: monthly data**\n",
    "***\n",
    "1. *Months of January and December show lesser traffic, which can be attributed to holidays and new year time*\n",
    "\n",
    "2. *Month of August(7) shows an unusual dip in traffic volume as well, which is rather an outlier and should be understood in detail in further analysis*"
   ]
  },
  {
   "cell_type": "code",
   "execution_count": 17,
   "metadata": {},
   "outputs": [
    {
     "data": {
      "image/png": "[encoded data removed]",
      "text/plain": [
       "<Figure size 432x288 with 1 Axes>"
      ]
     },
     "metadata": {
      "needs_background": "light"
     },
     "output_type": "display_data"
    },
    {
     "data": {
      "text/plain": [
       "(<Figure size 432x288 with 1 Axes>,\n",
       " <AxesSubplot:title={'center':'traffic_by_dayofweek'}, xlabel='day_of_week', ylabel='traffic'>)"
      ]
     },
     "execution_count": 17,
     "metadata": {},
     "output_type": "execute_result"
    }
   ],
   "source": [
    "# group the data by the day of week\n",
    "by_dayofweek = groupings(day_traffic, new_col='dayofweek')\n",
    "\n",
    "# visualise the traffic by day_of_week\n",
    "create_lineplot(by_dayofweek, s_1=\"dayofweek\", s_2=\"traffic_volume\",\n",
    "                chart_title=\"traffic_by_dayofweek\",\n",
    "                x=\"day_of_week\",\n",
    "                y=\"traffic\")\n"
   ]
  },
  {
   "cell_type": "markdown",
   "metadata": {},
   "source": [
    "**Summary Lineplot: daily traffic for day traffic**\n",
    "***\n",
    "1. *Traffic volume is higher on the first 5 days of the week.*\n",
    "\n",
    "2. *Traffic volume decreases considerably on the weekends (last 2 days).*\n",
    "\n",
    "3. *Now, it makes sense to analyse hourly traffic data on weekdays and weekends, by using grid chart.*"
   ]
  },
  {
   "cell_type": "code",
   "execution_count": 18,
   "metadata": {},
   "outputs": [
    {
     "data": {
      "text/plain": [
       "(<Figure size 432x288 with 2 Axes>,\n",
       " array([<AxesSubplot:title={'center':'business_days'}, xlabel='hour_of_day', ylabel='traffic'>,\n",
       "        <AxesSubplot:title={'center':'weekends'}, xlabel='hour_of_day', ylabel='traffic'>],\n",
       "       dtype=object))"
      ]
     },
     "execution_count": 18,
     "metadata": {},
     "output_type": "execute_result"
    },
    {
     "data": {
      "image/png": "[encoded data removed]",
      "text/plain": [
       "<Figure size 432x288 with 2 Axes>"
      ]
     },
     "metadata": {
      "needs_background": "light"
     },
     "output_type": "display_data"
    }
   ],
   "source": [
    "grid_chart(by_hour_business,\n",
    "           by_hour_weekend,\n",
    "           s_1=\"hour\",\n",
    "           s_2=\"traffic_volume\",\n",
    "           title_1=\"business_days\",\n",
    "           title_2=\"weekends\",\n",
    "           xlabel=\"hour_of_day\",\n",
    "           ylabel=\"traffic\",\n",
    "           chart_type=None,\n",
    "           xlimit_top=20,\n",
    "           xlimit_bottom=5,\n",
    "           ylimit_top=7000,\n",
    "           ylimit_bottom=1500)"
   ]
  },
  {
   "cell_type": "markdown",
   "metadata": {},
   "source": [
    "**Summary gridchart: weekdays/weekend hourly traffic**\n",
    "***\n",
    "1. *business days: On an average, the traffic volume is higher in first few hours, decreases around the 10th hour, increases in the evening (15th-16th) hour and a sharp decrease thereafter.*\n",
    "\n",
    "2. *weekends: On an average, the traffic volume is lower on weekends, attains a plateau around the 10th-11th hour, and starts decreasing post 15th-16th hour.*\n",
    "***\n",
    "*Next steps: Having analysed the dependance of traffic volume on time of the day, it is now critical to understand the correlation of traffic on other factors*"
   ]
  },
  {
   "cell_type": "code",
   "execution_count": 19,
   "metadata": {},
   "outputs": [
    {
     "data": {
      "text/html": [
       "<div>\n",
       "<style scoped>\n",
       "    .dataframe tbody tr th:only-of-type {\n",
       "        vertical-align: middle;\n",
       "    }\n",
       "\n",
       "    .dataframe tbody tr th {\n",
       "        vertical-align: top;\n",
       "    }\n",
       "\n",
       "    .dataframe thead th {\n",
       "        text-align: right;\n",
       "    }\n",
       "</style>\n",
       "<table border=\"1\" class=\"dataframe\">\n",
       "  <thead>\n",
       "    <tr style=\"text-align: right;\">\n",
       "      <th></th>\n",
       "      <th>traffic_volume</th>\n",
       "      <th>temp</th>\n",
       "      <th>rain_1h</th>\n",
       "      <th>snow_1h</th>\n",
       "      <th>clouds_all</th>\n",
       "    </tr>\n",
       "  </thead>\n",
       "  <tbody>\n",
       "    <tr>\n",
       "      <th>traffic_volume</th>\n",
       "      <td>1.000000</td>\n",
       "      <td>0.118084</td>\n",
       "      <td>0.004020</td>\n",
       "      <td>0.003768</td>\n",
       "      <td>-0.033410</td>\n",
       "    </tr>\n",
       "    <tr>\n",
       "      <th>temp</th>\n",
       "      <td>0.118084</td>\n",
       "      <td>1.000000</td>\n",
       "      <td>0.010418</td>\n",
       "      <td>-0.018720</td>\n",
       "      <td>-0.140432</td>\n",
       "    </tr>\n",
       "    <tr>\n",
       "      <th>rain_1h</th>\n",
       "      <td>0.004020</td>\n",
       "      <td>0.010418</td>\n",
       "      <td>1.000000</td>\n",
       "      <td>-0.000077</td>\n",
       "      <td>0.004881</td>\n",
       "    </tr>\n",
       "    <tr>\n",
       "      <th>snow_1h</th>\n",
       "      <td>0.003768</td>\n",
       "      <td>-0.018720</td>\n",
       "      <td>-0.000077</td>\n",
       "      <td>1.000000</td>\n",
       "      <td>0.026688</td>\n",
       "    </tr>\n",
       "    <tr>\n",
       "      <th>clouds_all</th>\n",
       "      <td>-0.033410</td>\n",
       "      <td>-0.140432</td>\n",
       "      <td>0.004881</td>\n",
       "      <td>0.026688</td>\n",
       "      <td>1.000000</td>\n",
       "    </tr>\n",
       "  </tbody>\n",
       "</table>\n",
       "</div>"
      ],
      "text/plain": [
       "                traffic_volume      temp   rain_1h   snow_1h  clouds_all\n",
       "traffic_volume        1.000000  0.118084  0.004020  0.003768   -0.033410\n",
       "temp                  0.118084  1.000000  0.010418 -0.018720   -0.140432\n",
       "rain_1h               0.004020  0.010418  1.000000 -0.000077    0.004881\n",
       "snow_1h               0.003768 -0.018720 -0.000077  1.000000    0.026688\n",
       "clouds_all           -0.033410 -0.140432  0.004881  0.026688    1.000000"
      ]
     },
     "execution_count": 19,
     "metadata": {},
     "output_type": "execute_result"
    }
   ],
   "source": [
    "#print out the correlaton between different columns of the day_traffic data\n",
    "day_traffic[[\"traffic_volume\", \"temp\", \"rain_1h\", \"snow_1h\",\n",
    "             \"clouds_all\", \"weather_main\",\n",
    "             \"weather_description\"]].corr()"
   ]
  },
  {
   "cell_type": "markdown",
   "metadata": {},
   "source": [
    "**Summary correlation: all columns on day_traffic**\n",
    "***\n",
    "*The highest positive correlation of traffic volume is with the temperature column*\n",
    "\n",
    "*Next steps: Let us plot the traffic volume as a scatter plot and dependance on temperature column*"
   ]
  },
  {
   "cell_type": "code",
   "execution_count": 20,
   "metadata": {},
   "outputs": [
    {
     "data": {
      "image/png": "[encoded data removed]",
      "text/plain": [
       "<Figure size 432x288 with 1 Axes>"
      ]
     },
     "metadata": {
      "needs_background": "light"
     },
     "output_type": "display_data"
    },
    {
     "data": {
      "text/plain": [
       "(<Figure size 432x288 with 1 Axes>, <AxesSubplot:>)"
      ]
     },
     "execution_count": 20,
     "metadata": {},
     "output_type": "execute_result"
    }
   ],
   "source": [
    "create_scatterplot(day_traffic, s_1=\"temp\", s_2=\"traffic_volume\",\n",
    "                   xlim_bottom=230)"
   ]
  },
  {
   "cell_type": "markdown",
   "metadata": {},
   "source": [
    "**Summary scatterplot**\n",
    "\n",
    "*The scatterplot appears to be inconclusive and does not provide a lot of \n",
    "useful/extra information about traffic dependance on temperature variance*\n",
    "***\n",
    "\n",
    "**Next Steps**\n",
    "\n",
    "1. Understand the impact of some of the categorical variables like \"Weather_description\", \"Weather_main\" on traffic volume.\n",
    "\n",
    "2. Use simple bar charts to demonstrate the relationships clealy.\n",
    "\n",
    "\n"
   ]
  },
  {
   "cell_type": "code",
   "execution_count": 21,
   "metadata": {},
   "outputs": [],
   "source": [
    "#Group the data by \"weather_main\" and \"weather_description columns\"\n",
    "\n",
    "by_weather_main = groupings(day_traffic, new_col=\"weather_main\")\n",
    "by_weather_description = groupings(day_traffic,\n",
    "                                   new_col=\"weather_description\")\n"
   ]
  },
  {
   "cell_type": "code",
   "execution_count": 22,
   "metadata": {},
   "outputs": [
    {
     "data": {
      "image/png": "[encoded data removed]",
      "text/plain": [
       "<Figure size 576x432 with 1 Axes>"
      ]
     },
     "metadata": {
      "needs_background": "light"
     },
     "output_type": "display_data"
    },
    {
     "data": {
      "text/plain": [
       "(<Figure size 576x432 with 1 Axes>,\n",
       " <AxesSubplot:title={'center':'traffic_by_weather_main'}, xlabel='traffic_volume', ylabel='weather_main'>)"
      ]
     },
     "execution_count": 22,
     "metadata": {},
     "output_type": "execute_result"
    }
   ],
   "source": [
    "create_barchart(by_weather_main, \"weather_main\", \"traffic_volume\",\n",
    "                chart_title=\"traffic_by_weather_main\",\n",
    "                x=\"traffic_volume\",\n",
    "                y=\"weather_main\",\n",
    "                horizontalplot=True)"
   ]
  },
  {
   "cell_type": "code",
   "execution_count": 23,
   "metadata": {},
   "outputs": [
    {
     "data": {
      "image/png": "[encoded data removed]",
      "text/plain": [
       "<Figure size 576x432 with 1 Axes>"
      ]
     },
     "metadata": {
      "needs_background": "light"
     },
     "output_type": "display_data"
    },
    {
     "data": {
      "text/plain": [
       "(<Figure size 576x432 with 1 Axes>,\n",
       " <AxesSubplot:title={'center':'traffic_by_weather_description'}, xlabel='traffic_volume', ylabel='weather_main'>)"
      ]
     },
     "execution_count": 23,
     "metadata": {},
     "output_type": "execute_result"
    }
   ],
   "source": [
    "create_barchart(by_weather_description, \"weather_description\",\n",
    "                \"traffic_volume\",\n",
    "                chart_title=\"traffic_by_weather_description\",\n",
    "                x=\"traffic_volume\",\n",
    "                y=\"weather_main\",\n",
    "                horizontalplot=True)"
   ]
  },
  {
   "cell_type": "markdown",
   "metadata": {},
   "source": [
    "**Summary of bar charts: categorical variables**\n",
    "***\n",
    "*Weather_main*: Squall and Fog show lower traffic volume, but other weather patterns do not seem to impact traffic volume in a significant way.\n",
    "\n",
    "*Weather_description*: **Shower snow** and **light rain and snow** are outliers, with traffic volume going beyond 5000 on an average.**Thunderstorm with light drizzle** has the lowest traffic volume on average.\n"
   ]
  },
  {
   "cell_type": "markdown",
   "metadata": {},
   "source": [
    "### 2.6: Conclusion\n",
    "<a id=\"summary\"></a>"
   ]
  },
  {
   "cell_type": "markdown",
   "metadata": {},
   "source": [
    "1. Traffic is higher during the day time on I-94, especially on the weekdays.\n",
    "\n",
    "2. Within the business days, there are specific hours (peaks around 7 and 16).\n",
    "\n",
    "3. On an average, the month of July shows lower traffic volume, which is an interesting result and should be investigated further. The warmer months btween (March-October) show a higher traffic as compared to the colder months.\n",
    "\n",
    "4. When other numerical factors were taken into account, it appeared that temperature might have some positive correlation with traffic volume, although \n",
    "it doesnt appear to show any significant relation.\n",
    "\n",
    "5. When the categorical variables were analysed, a few intersting insights came out: *Squall* and *Fog* show lower traffic volume, *Shower snow* and *light rain and snow* are outliers, with traffic volume going beyond 5000 on an average."
   ]
  }
 ],
 "metadata": {
  "kernelspec": {
   "display_name": "Python 3",
   "language": "python",
   "name": "python3"
  },
  "language_info": {
   "codemirror_mode": {
    "name": "ipython",
    "version": 3
   },
   "file_extension": ".py",
   "mimetype": "text/x-python",
   "name": "python",
   "nbconvert_exporter": "python",
   "pygments_lexer": "ipython3",
   "version": "3.8.5"
  }
 },
 "nbformat": 4,
 "nbformat_minor": 4
}
